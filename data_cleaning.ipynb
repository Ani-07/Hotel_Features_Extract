{
    "cells": [
        {
            "cell_type": "code",
            "execution_count": 14,
            "metadata": {},
            "outputs": [],
            "source": "# The code was removed by Watson Studio for sharing."
        },
        {
            "cell_type": "code",
            "execution_count": 15,
            "metadata": {},
            "outputs": [
                {
                    "data": {
                        "text/html": "<div>\n<style scoped>\n    .dataframe tbody tr th:only-of-type {\n        vertical-align: middle;\n    }\n\n    .dataframe tbody tr th {\n        vertical-align: top;\n    }\n\n    .dataframe thead th {\n        text-align: right;\n    }\n</style>\n<table border=\"1\" class=\"dataframe\">\n  <thead>\n    <tr style=\"text-align: right;\">\n      <th></th>\n      <th>Negative_Review</th>\n      <th>Positive_Review</th>\n      <th>Reviewer_Score</th>\n    </tr>\n  </thead>\n  <tbody>\n    <tr>\n      <th>0</th>\n      <td>I am so angry that i made this post available...</td>\n      <td>Only the park outside of the hotel was beauti...</td>\n      <td>2.9</td>\n    </tr>\n    <tr>\n      <th>1</th>\n      <td>No Negative</td>\n      <td>No real complaints the hotel was great great ...</td>\n      <td>7.5</td>\n    </tr>\n    <tr>\n      <th>2</th>\n      <td>Rooms are nice but for elderly a bit difficul...</td>\n      <td>Location was good and staff were ok It is cut...</td>\n      <td>7.1</td>\n    </tr>\n    <tr>\n      <th>3</th>\n      <td>My room was dirty and I was afraid to walk ba...</td>\n      <td>Great location in nice surroundings the bar a...</td>\n      <td>3.8</td>\n    </tr>\n    <tr>\n      <th>4</th>\n      <td>You When I booked with your company on line y...</td>\n      <td>Amazing location and building Romantic setting</td>\n      <td>6.7</td>\n    </tr>\n  </tbody>\n</table>\n</div>",
                        "text/plain": "                                     Negative_Review  \\\n0   I am so angry that i made this post available...   \n1                                        No Negative   \n2   Rooms are nice but for elderly a bit difficul...   \n3   My room was dirty and I was afraid to walk ba...   \n4   You When I booked with your company on line y...   \n\n                                     Positive_Review  Reviewer_Score  \n0   Only the park outside of the hotel was beauti...             2.9  \n1   No real complaints the hotel was great great ...             7.5  \n2   Location was good and staff were ok It is cut...             7.1  \n3   Great location in nice surroundings the bar a...             3.8  \n4    Amazing location and building Romantic setting              6.7  "
                    },
                    "execution_count": 15,
                    "metadata": {},
                    "output_type": "execute_result"
                }
            ],
            "source": "# The code was removed by Watson Studio for sharing."
        },
        {
            "cell_type": "code",
            "execution_count": 24,
            "metadata": {},
            "outputs": [
                {
                    "name": "stdout",
                    "output_type": "stream",
                    "text": "+--------------------+--------------------+--------------+\n|     Negative_Review|     Positive_Review|Reviewer_Score|\n+--------------------+--------------------+--------------+\n| I am so angry th...| Only the park ou...|           2.9|\n|         No Negative| No real complain...|           7.5|\n| Rooms are nice b...| Location was goo...|           7.1|\n| My room was dirt...| Great location i...|           3.8|\n| You When I booke...| Amazing location...|           6.7|\n| Backyard of the ...| Good restaurant ...|           6.7|\n| Cleaner did not ...| The room is spac...|           4.6|\n| Apart from the p...| Good location Se...|          10.0|\n| Even though the ...|         No Positive|           6.5|\n| The aircondition...| The room was big...|           7.9|\n|  Nothing all great | Rooms were stunn...|          10.0|\n| 6 30 AM started ...| Style location r...|           5.8|\n| The floor in my ...| Comfy bed good l...|           4.6|\n|         No Negative| This hotel is be...|           9.2|\n| The staff in the...| It was very good...|           8.8|\n|         No Negative| This hotel is aw...|          10.0|\n| Very steep steps...| Great onsite caf...|           6.3|\n| We did not like ...| We loved the loc...|           7.5|\n|         No Negative| Public areas are...|           7.1|\n| We had issues wi...| I liked the hote...|           7.5|\n+--------------------+--------------------+--------------+\nonly showing top 20 rows\n\n"
                }
            ],
            "source": "# We now convert the data into a spark dataframe to make use of the parellal processing benefits. We could also directly import the data as a Spark Datafram\n\nreviews_spark = spark.createDataFrame(reviews_pd)\nreviews_spark.show(5)"
        },
        {
            "cell_type": "code",
            "execution_count": 25,
            "metadata": {},
            "outputs": [
                {
                    "name": "stdout",
                    "output_type": "stream",
                    "text": "+--------------+--------------------+\n|Reviewer_Score|              Review|\n+--------------+--------------------+\n|           2.9| I am so angry th...|\n|           7.5|No Negative, No r...|\n|           7.1| Rooms are nice b...|\n|           3.8| My room was dirt...|\n|           6.7| You When I booke...|\n+--------------+--------------------+\nonly showing top 5 rows\n\n"
                }
            ],
            "source": "# Before proceeding to feature transfromation, we first combine positive and negative review texts. Since our labels are based on both reviews. We can combine the words\n# to build the model\n\nfrom pyspark.sql.functions import concat, col, lit \n\nreviews_spark = reviews_spark.withColumn(\"Review\",concat(col(\"Negative_Review\"),lit(','),col(\"Positive_Review\"))).drop(\"Negative_Review\").drop(\"Positive_Review\")\n    \nreviews_spark.show(5)"
        },
        {
            "cell_type": "code",
            "execution_count": 26,
            "metadata": {},
            "outputs": [
                {
                    "name": "stdout",
                    "output_type": "stream",
                    "text": "Bucketizer output with 3 buckets\n+--------------+--------------------+----------------+\n|Reviewer_Score|              Review|Sentiment_signal|\n+--------------+--------------------+----------------+\n|           2.9| I am so angry th...|             0.0|\n|           7.5|No Negative, No r...|             2.0|\n|           7.1| Rooms are nice b...|             2.0|\n|          10.0| Apart from the p...|             2.0|\n|           7.9| The aircondition...|             2.0|\n|          10.0| Nothing all grea...|             2.0|\n|           9.2|No Negative, This...|             2.0|\n|           8.8| The staff in the...|             2.0|\n|          10.0|No Negative, This...|             2.0|\n|           7.5| We did not like ...|             2.0|\n|           7.1|No Negative, Publ...|             2.0|\n|           7.5| We had issues wi...|             2.0|\n|           9.6| Transportation w...|             2.0|\n|           9.6| Nothing , Lovely...|             2.0|\n|           8.3| The bathroom in ...|             2.0|\n|           9.6| Nothing at all t...|             2.0|\n|           8.3| Careful they are...|             2.0|\n|           8.3| We had 2 differe...|             2.0|\n|           9.2| There is an ongo...|             2.0|\n|           9.2| Little bit on th...|             2.0|\n+--------------+--------------------+----------------+\nonly showing top 20 rows\n\n"
                }
            ],
            "source": "# Our objective is to give words a positive or negative connation and in order to that we initially need to label our reviews. Instead of manually labelling each review,\n# we shall use the given reviewer_score to give labels to our data.\n\n# In order to give more clear labels, we will ignore rating between 3 to 6, and ratings less than 3 shall be given a negative label, while the ratings greater than 6\n# shall be given a positive label\n\nfrom pyspark.ml.feature import Bucketizer\nsplits = [0.0, 3, 7, 10]\nbucketizer = Bucketizer(splits=splits, inputCol=\"Reviewer_Score\", outputCol=\"Sentiment_signal\")\n\n# Transform original data into its bucket index.\nbucketedData = bucketizer.transform(reviews_spark)\n\nbucketedData = bucketedData.filter((bucketedData.Sentiment_signal != 1.0))\nprint(\"Bucketizer output with %d buckets\" % (len(bucketizer.getSplits())-1))\nbucketedData.show()"
        },
        {
            "cell_type": "code",
            "execution_count": 28,
            "metadata": {},
            "outputs": [
                {
                    "name": "stdout",
                    "output_type": "stream",
                    "text": "+--------------+--------------------+----------------+--------------------+--------------------+--------------------+-----+\n|Reviewer_Score|              Review|Sentiment_signal|               words|         words_clean|            features|label|\n+--------------+--------------------+----------------+--------------------+--------------------+--------------------+-----+\n|           2.9| I am so angry th...|             0.0|[, i, am, so, ang...|[, angry, made, p...|(78040,[0,1,4,5,1...|  1.0|\n|           7.5|No Negative, No r...|             2.0|[no, negative,, n...|[negative,, real,...|(78040,[2,3,5,6,9...|  0.0|\n|           7.1| Rooms are nice b...|             2.0|[, rooms, are, ni...|[, rooms, nice, e...|(78040,[0,2,3,4,5...|  0.0|\n|          10.0| Apart from the p...|             2.0|[, apart, from, t...|[, apart, price, ...|(78040,[0,2,3,7,8...|  0.0|\n|           7.9| The aircondition...|             2.0|[, the, aircondit...|[, aircondition, ...|(78040,[0,1,4,5,7...|  0.0|\n+--------------+--------------------+----------------+--------------------+--------------------+--------------------+-----+\nonly showing top 5 rows\n\n"
                }
            ],
            "source": "# Now we go ahead and build our ML pipeline to transform our data into a set of vector that can be fed into an ML algorithm.\n\n# This process will involve the following steps:\n\n# First split sentences into tokens then remove stopwords being words that do not add lot of meaning to the sentence\n\n# We then convert the toekns\n\nfrom pyspark.ml import Pipeline\n\nfrom pyspark.ml.feature import Tokenizer, CountVectorizer, StopWordsRemover, StringIndexer\n\ntokenizer = Tokenizer(inputCol=\"Review\", outputCol=\"words\")\n\nremover = StopWordsRemover(inputCol=\"words\", outputCol=\"words_clean\")\n\ncv = CountVectorizer(inputCol=\"words_clean\", outputCol=\"features\")\n\nindexer = StringIndexer(inputCol = \"Sentiment_signal\", outputCol = \"label\")\n\npipeline = Pipeline(stages=[tokenizer, remover, cv, indexer])\n\npipelineFit = pipeline.fit(bucketedData)\n\ntransform_vector = pipelineFit.transform(bucketedData)\n\ntransform_vector.show(5)\n"
        },
        {
            "cell_type": "code",
            "execution_count": 30,
            "metadata": {},
            "outputs": [
                {
                    "name": "stderr",
                    "output_type": "stream",
                    "text": "----------------------------------------\nException happened during processing of request from ('127.0.0.1', 51724)\nTraceback (most recent call last):\n  File \"/opt/ibm/conda/miniconda3.6/lib/python3.6/socketserver.py\", line 320, in _handle_request_noblock\n    self.process_request(request, client_address)\n  File \"/opt/ibm/conda/miniconda3.6/lib/python3.6/socketserver.py\", line 351, in process_request\n    self.finish_request(request, client_address)\n  File \"/opt/ibm/conda/miniconda3.6/lib/python3.6/socketserver.py\", line 364, in finish_request\n    self.RequestHandlerClass(request, client_address, self)\n  File \"/opt/ibm/conda/miniconda3.6/lib/python3.6/socketserver.py\", line 724, in __init__\n    self.handle()\n  File \"/opt/ibm/spark/python/pyspark/accumulators.py\", line 269, in handle\n    poll(accum_updates)\n  File \"/opt/ibm/spark/python/pyspark/accumulators.py\", line 241, in poll\n    if func():\n  File \"/opt/ibm/spark/python/pyspark/accumulators.py\", line 245, in accum_updates\n    num_updates = read_int(self.rfile)\n  File \"/opt/ibm/spark/python/pyspark/serializers.py\", line 717, in read_int\n    raise EOFError\nEOFError\n----------------------------------------\nERROR:root:Exception while sending command.\nTraceback (most recent call last):\n  File \"/opt/ibm/conda/miniconda3.6/lib/python3.6/site-packages/py4j/java_gateway.py\", line 1207, in send_command\n    raise Py4JNetworkError(\"Answer from Java side is empty\")\npy4j.protocol.Py4JNetworkError: Answer from Java side is empty\n\nDuring handling of the above exception, another exception occurred:\n\nTraceback (most recent call last):\n  File \"/opt/ibm/conda/miniconda3.6/lib/python3.6/site-packages/py4j/java_gateway.py\", line 1033, in send_command\n    response = connection.send_command(command)\n  File \"/opt/ibm/conda/miniconda3.6/lib/python3.6/site-packages/py4j/java_gateway.py\", line 1212, in send_command\n    \"Error while receiving\", e, proto.ERROR_ON_RECEIVE)\npy4j.protocol.Py4JNetworkError: Error while receiving\n"
                },
                {
                    "name": "stdout",
                    "output_type": "stream",
                    "text": "nope\n"
                }
            ],
            "source": "from project_lib import Project\nproject = Project(sc,\"b352b13d-9829-4fe1-8f30-961388e41c7e\",\"p-422dcf71364664617425eea8fbac723fad534065\")\nproject.save_data(file_name = \"transform_vector.csv\",data = transform_vector.toPandas().to_csv(index=False))\nprint(\"nope\")"
        }
    ],
    "metadata": {
        "kernelspec": {
            "display_name": "Python 3.6 with Spark",
            "language": "python3",
            "name": "python36"
        },
        "language_info": {
            "codemirror_mode": {
                "name": "ipython",
                "version": 3
            },
            "file_extension": ".py",
            "mimetype": "text/x-python",
            "name": "python",
            "nbconvert_exporter": "python",
            "pygments_lexer": "ipython3",
            "version": "3.6.8"
        }
    },
    "nbformat": 4,
    "nbformat_minor": 1
}